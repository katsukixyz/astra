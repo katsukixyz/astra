{
 "cells": [
  {
   "cell_type": "code",
   "execution_count": 12,
   "id": "2730a750",
   "metadata": {},
   "outputs": [],
   "source": [
    "import pandas as pd\n",
    "import geopandas as gp\n",
    "import numpy as np\n",
    "import os\n",
    "import math"
   ]
  },
  {
   "cell_type": "code",
   "execution_count": 155,
   "id": "23b2b785",
   "metadata": {},
   "outputs": [
    {
     "ename": "FileNotFoundError",
     "evalue": "[Errno 2] No such file or directory: '../raw/slope-aspect/'",
     "output_type": "error",
     "traceback": [
      "\u001b[0;31m---------------------------------------------------------------------------\u001b[0m",
      "\u001b[0;31mFileNotFoundError\u001b[0m                         Traceback (most recent call last)",
      "\u001b[0;32m/var/folders/rs/rsvfzdz17cb1s_kym__m_bfr0000gn/T/ipykernel_7254/510496724.py\u001b[0m in \u001b[0;36m<module>\u001b[0;34m\u001b[0m\n\u001b[0;32m----> 1\u001b[0;31m \u001b[0;32mfor\u001b[0m \u001b[0mfilename\u001b[0m \u001b[0;32min\u001b[0m \u001b[0mos\u001b[0m\u001b[0;34m.\u001b[0m\u001b[0mlistdir\u001b[0m\u001b[0;34m(\u001b[0m\u001b[0;34m'../raw/slope-aspect/'\u001b[0m\u001b[0;34m)\u001b[0m\u001b[0;34m:\u001b[0m\u001b[0;34m\u001b[0m\u001b[0;34m\u001b[0m\u001b[0m\n\u001b[0m\u001b[1;32m      2\u001b[0m     \u001b[0;32mif\u001b[0m \u001b[0mfilename\u001b[0m\u001b[0;34m.\u001b[0m\u001b[0mendswith\u001b[0m\u001b[0;34m(\u001b[0m\u001b[0;34m'.zip'\u001b[0m\u001b[0;34m)\u001b[0m\u001b[0;34m:\u001b[0m\u001b[0;34m\u001b[0m\u001b[0;34m\u001b[0m\u001b[0m\n\u001b[1;32m      3\u001b[0m         \u001b[0mzip_f\u001b[0m \u001b[0;34m=\u001b[0m \u001b[0mzipfile\u001b[0m\u001b[0;34m.\u001b[0m\u001b[0mZipFile\u001b[0m\u001b[0;34m(\u001b[0m\u001b[0;34m\"../raw/slope-aspect/\"\u001b[0m\u001b[0;34m+\u001b[0m\u001b[0mfilename\u001b[0m\u001b[0;34m,\u001b[0m \u001b[0;34m\"r\"\u001b[0m\u001b[0;34m)\u001b[0m\u001b[0;34m\u001b[0m\u001b[0;34m\u001b[0m\u001b[0m\n\u001b[1;32m      4\u001b[0m         \u001b[0mf\u001b[0m \u001b[0;34m=\u001b[0m \u001b[0mfilename\u001b[0m\u001b[0;34m.\u001b[0m\u001b[0mstrip\u001b[0m\u001b[0;34m(\u001b[0m\u001b[0;34m\"NASADEM_SC_\"\u001b[0m\u001b[0;34m)\u001b[0m\u001b[0;34m.\u001b[0m\u001b[0mstrip\u001b[0m\u001b[0;34m(\u001b[0m\u001b[0;34m\".zip\"\u001b[0m\u001b[0;34m)\u001b[0m\u001b[0;34m\u001b[0m\u001b[0;34m\u001b[0m\u001b[0m\n\u001b[1;32m      5\u001b[0m \u001b[0;31m#         zip_f.extract(\"../raw/slope-aspect/hgt/\"+f+\".hgt\")\u001b[0m\u001b[0;34m\u001b[0m\u001b[0;34m\u001b[0m\u001b[0m\n",
      "\u001b[0;31mFileNotFoundError\u001b[0m: [Errno 2] No such file or directory: '../raw/slope-aspect/'"
     ]
    }
   ],
   "source": [
    "# DONT RUN\n",
    "for filename in os.listdir('../raw/slope-aspect/'):\n",
    "    if filename.endswith('.zip'):\n",
    "        zip_f = zipfile.ZipFile(\"../raw/slope-aspect/\"+filename, \"r\")\n",
    "        f = filename.strip(\"NASADEM_SC_\").strip(\".zip\")\n",
    "#         zip_f.extract(\"../raw/slope-aspect/hgt/\"+f+\".hgt\")\n",
    "        zip_f.extract(f+\".aspect\")\n",
    "        zip_f.close()\n",
    "        print(filename)"
   ]
  },
  {
   "cell_type": "code",
   "execution_count": 6,
   "id": "f2e6b711",
   "metadata": {},
   "outputs": [],
   "source": [
    "file_path = '../raw/slope-aspect/aspect-raw/'"
   ]
  },
  {
   "cell_type": "code",
   "execution_count": 9,
   "id": "747f55bd",
   "metadata": {},
   "outputs": [],
   "source": [
    "# for filename in os.listdir(file_path):\n",
    "#     filename_noext = filename.strip('.hg.hgt')\n",
    "#     os.rename(file_path+filename, file_path+filename_noext+'.hgt')"
   ]
  },
  {
   "cell_type": "code",
   "execution_count": 28,
   "id": "3a56fdd1",
   "metadata": {},
   "outputs": [
    {
     "ename": "ValueError",
     "evalue": "invalid literal for int() with base 10: 'tor'",
     "output_type": "error",
     "traceback": [
      "\u001b[0;31m---------------------------------------------------------------------------\u001b[0m",
      "\u001b[0;31mValueError\u001b[0m                                Traceback (most recent call last)",
      "\u001b[0;32m/var/folders/rs/rsvfzdz17cb1s_kym__m_bfr0000gn/T/ipykernel_15521/524857921.py\u001b[0m in \u001b[0;36m<module>\u001b[0;34m\u001b[0m\n\u001b[1;32m      3\u001b[0m     \u001b[0mlons\u001b[0m \u001b[0;34m=\u001b[0m \u001b[0;34m[\u001b[0m\u001b[0;34m]\u001b[0m\u001b[0;34m\u001b[0m\u001b[0;34m\u001b[0m\u001b[0m\n\u001b[1;32m      4\u001b[0m     \u001b[0mlats\u001b[0m \u001b[0;34m=\u001b[0m \u001b[0;34m[\u001b[0m\u001b[0;34m]\u001b[0m\u001b[0;34m\u001b[0m\u001b[0;34m\u001b[0m\u001b[0m\n\u001b[0;32m----> 5\u001b[0;31m     \u001b[0mlon_tile\u001b[0m \u001b[0;34m=\u001b[0m \u001b[0mint\u001b[0m\u001b[0;34m(\u001b[0m\u001b[0mfilename\u001b[0m\u001b[0;34m[\u001b[0m\u001b[0;36m4\u001b[0m\u001b[0;34m:\u001b[0m\u001b[0;36m7\u001b[0m\u001b[0;34m]\u001b[0m\u001b[0;34m)\u001b[0m\u001b[0;34m\u001b[0m\u001b[0;34m\u001b[0m\u001b[0m\n\u001b[0m\u001b[1;32m      6\u001b[0m     \u001b[0mlat_tile\u001b[0m \u001b[0;34m=\u001b[0m \u001b[0mint\u001b[0m\u001b[0;34m(\u001b[0m\u001b[0mfilename\u001b[0m\u001b[0;34m[\u001b[0m\u001b[0;36m1\u001b[0m\u001b[0;34m:\u001b[0m\u001b[0;36m3\u001b[0m\u001b[0;34m]\u001b[0m\u001b[0;34m)\u001b[0m\u001b[0;34m\u001b[0m\u001b[0;34m\u001b[0m\u001b[0m\n\u001b[1;32m      7\u001b[0m \u001b[0;34m\u001b[0m\u001b[0m\n",
      "\u001b[0;31mValueError\u001b[0m: invalid literal for int() with base 10: 'tor'"
     ]
    }
   ],
   "source": [
    "final = pd.DataFrame()\n",
    "for filename in os.listdir(file_path):\n",
    "    if filename.endswith('')\n",
    "    lons = []\n",
    "    lats = []\n",
    "    lon_tile = int(filename[4:7])\n",
    "    lat_tile = int(filename[1:3])\n",
    "    \n",
    "    siz = os.path.getsize(file_path + filename)\n",
    "    dim = int(math.sqrt(siz/2))\n",
    "\n",
    "    assert dim*dim*2 == siz, 'Invalid file size'\n",
    "\n",
    "    data = np.fromfile(file_path + filename, np.dtype('>i2'), dim*dim).reshape((dim, dim))\n",
    "\n",
    "    for i in range(0, 3601):\n",
    "        lon = lon_tile + 1/7200 + i*(1/3601)\n",
    "        lat = lat_tile + 1/7200 + i*(1/3601)\n",
    "        lons.append(lon)\n",
    "        lats.append(lat)\n",
    "        \n",
    "    tile_df = pd.DataFrame(data)\n",
    "    tile_df.index = lats\n",
    "    tile_df.T\n",
    "    tile_df.index = lons\n",
    "    tile_df.T\n",
    "    tile_final = tile_df.stack().reset_index()\n",
    "    tile_final = tile_final.rename(columns = {'level_0': 'lon', 'level_1': 'lat', 0: 'aspect'})\n",
    "    \n",
    "    final = final.append(tile_final)"
   ]
  },
  {
   "cell_type": "code",
   "execution_count": 29,
   "id": "2d72db0c",
   "metadata": {},
   "outputs": [
    {
     "data": {
      "text/html": [
       "<div>\n",
       "<style scoped>\n",
       "    .dataframe tbody tr th:only-of-type {\n",
       "        vertical-align: middle;\n",
       "    }\n",
       "\n",
       "    .dataframe tbody tr th {\n",
       "        vertical-align: top;\n",
       "    }\n",
       "\n",
       "    .dataframe thead th {\n",
       "        text-align: right;\n",
       "    }\n",
       "</style>\n",
       "<table border=\"1\" class=\"dataframe\">\n",
       "  <thead>\n",
       "    <tr style=\"text-align: right;\">\n",
       "      <th></th>\n",
       "      <th>lon</th>\n",
       "      <th>lat</th>\n",
       "      <th>aspect</th>\n",
       "    </tr>\n",
       "  </thead>\n",
       "  <tbody>\n",
       "    <tr>\n",
       "      <th>0</th>\n",
       "      <td>122.000139</td>\n",
       "      <td>0</td>\n",
       "      <td>0</td>\n",
       "    </tr>\n",
       "    <tr>\n",
       "      <th>1</th>\n",
       "      <td>122.000139</td>\n",
       "      <td>1</td>\n",
       "      <td>0</td>\n",
       "    </tr>\n",
       "    <tr>\n",
       "      <th>2</th>\n",
       "      <td>122.000139</td>\n",
       "      <td>2</td>\n",
       "      <td>0</td>\n",
       "    </tr>\n",
       "    <tr>\n",
       "      <th>3</th>\n",
       "      <td>122.000139</td>\n",
       "      <td>3</td>\n",
       "      <td>0</td>\n",
       "    </tr>\n",
       "    <tr>\n",
       "      <th>4</th>\n",
       "      <td>122.000139</td>\n",
       "      <td>4</td>\n",
       "      <td>0</td>\n",
       "    </tr>\n",
       "    <tr>\n",
       "      <th>...</th>\n",
       "      <td>...</td>\n",
       "      <td>...</td>\n",
       "      <td>...</td>\n",
       "    </tr>\n",
       "    <tr>\n",
       "      <th>12967196</th>\n",
       "      <td>117.999861</td>\n",
       "      <td>3596</td>\n",
       "      <td>6453</td>\n",
       "    </tr>\n",
       "    <tr>\n",
       "      <th>12967197</th>\n",
       "      <td>117.999861</td>\n",
       "      <td>3597</td>\n",
       "      <td>8662</td>\n",
       "    </tr>\n",
       "    <tr>\n",
       "      <th>12967198</th>\n",
       "      <td>117.999861</td>\n",
       "      <td>3598</td>\n",
       "      <td>9904</td>\n",
       "    </tr>\n",
       "    <tr>\n",
       "      <th>12967199</th>\n",
       "      <td>117.999861</td>\n",
       "      <td>3599</td>\n",
       "      <td>14038</td>\n",
       "    </tr>\n",
       "    <tr>\n",
       "      <th>12967200</th>\n",
       "      <td>117.999861</td>\n",
       "      <td>3600</td>\n",
       "      <td>24920</td>\n",
       "    </tr>\n",
       "  </tbody>\n",
       "</table>\n",
       "<p>765064859 rows × 3 columns</p>\n",
       "</div>"
      ],
      "text/plain": [
       "                 lon   lat  aspect\n",
       "0         122.000139     0       0\n",
       "1         122.000139     1       0\n",
       "2         122.000139     2       0\n",
       "3         122.000139     3       0\n",
       "4         122.000139     4       0\n",
       "...              ...   ...     ...\n",
       "12967196  117.999861  3596    6453\n",
       "12967197  117.999861  3597    8662\n",
       "12967198  117.999861  3598    9904\n",
       "12967199  117.999861  3599   14038\n",
       "12967200  117.999861  3600   24920\n",
       "\n",
       "[765064859 rows x 3 columns]"
      ]
     },
     "execution_count": 29,
     "metadata": {},
     "output_type": "execute_result"
    }
   ],
   "source": [
    "final"
   ]
  },
  {
   "cell_type": "code",
   "execution_count": null,
   "id": "240a092c",
   "metadata": {},
   "outputs": [],
   "source": []
  }
 ],
 "metadata": {
  "kernelspec": {
   "display_name": "sa2021",
   "language": "python",
   "name": "sa2021"
  },
  "language_info": {
   "codemirror_mode": {
    "name": "ipython",
    "version": 3
   },
   "file_extension": ".py",
   "mimetype": "text/x-python",
   "name": "python",
   "nbconvert_exporter": "python",
   "pygments_lexer": "ipython3",
   "version": "3.9.7"
  }
 },
 "nbformat": 4,
 "nbformat_minor": 5
}
