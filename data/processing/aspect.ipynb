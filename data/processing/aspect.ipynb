{
 "cells": [
  {
   "cell_type": "code",
   "execution_count": 12,
   "id": "2730a750",
   "metadata": {},
   "outputs": [],
   "source": [
    "import pandas as pd\n",
    "import geopandas as gp\n",
    "import numpy as np\n",
    "import os\n",
    "import math"
   ]
  },
  {
   "cell_type": "code",
   "execution_count": 155,
   "id": "352882a7",
   "metadata": {},
   "outputs": [
    {
     "ename": "FileNotFoundError",
     "evalue": "[Errno 2] No such file or directory: '../raw/slope-aspect/'",
     "output_type": "error",
     "traceback": [
      "\u001b[0;31m---------------------------------------------------------------------------\u001b[0m",
      "\u001b[0;31mFileNotFoundError\u001b[0m                         Traceback (most recent call last)",
      "\u001b[0;32m/var/folders/rs/rsvfzdz17cb1s_kym__m_bfr0000gn/T/ipykernel_7254/510496724.py\u001b[0m in \u001b[0;36m<module>\u001b[0;34m\u001b[0m\n\u001b[0;32m----> 1\u001b[0;31m \u001b[0;32mfor\u001b[0m \u001b[0mfilename\u001b[0m \u001b[0;32min\u001b[0m \u001b[0mos\u001b[0m\u001b[0;34m.\u001b[0m\u001b[0mlistdir\u001b[0m\u001b[0;34m(\u001b[0m\u001b[0;34m'../raw/slope-aspect/'\u001b[0m\u001b[0;34m)\u001b[0m\u001b[0;34m:\u001b[0m\u001b[0;34m\u001b[0m\u001b[0;34m\u001b[0m\u001b[0m\n\u001b[0m\u001b[1;32m      2\u001b[0m     \u001b[0;32mif\u001b[0m \u001b[0mfilename\u001b[0m\u001b[0;34m.\u001b[0m\u001b[0mendswith\u001b[0m\u001b[0;34m(\u001b[0m\u001b[0;34m'.zip'\u001b[0m\u001b[0;34m)\u001b[0m\u001b[0;34m:\u001b[0m\u001b[0;34m\u001b[0m\u001b[0;34m\u001b[0m\u001b[0m\n\u001b[1;32m      3\u001b[0m         \u001b[0mzip_f\u001b[0m \u001b[0;34m=\u001b[0m \u001b[0mzipfile\u001b[0m\u001b[0;34m.\u001b[0m\u001b[0mZipFile\u001b[0m\u001b[0;34m(\u001b[0m\u001b[0;34m\"../raw/slope-aspect/\"\u001b[0m\u001b[0;34m+\u001b[0m\u001b[0mfilename\u001b[0m\u001b[0;34m,\u001b[0m \u001b[0;34m\"r\"\u001b[0m\u001b[0;34m)\u001b[0m\u001b[0;34m\u001b[0m\u001b[0;34m\u001b[0m\u001b[0m\n\u001b[1;32m      4\u001b[0m         \u001b[0mf\u001b[0m \u001b[0;34m=\u001b[0m \u001b[0mfilename\u001b[0m\u001b[0;34m.\u001b[0m\u001b[0mstrip\u001b[0m\u001b[0;34m(\u001b[0m\u001b[0;34m\"NASADEM_SC_\"\u001b[0m\u001b[0;34m)\u001b[0m\u001b[0;34m.\u001b[0m\u001b[0mstrip\u001b[0m\u001b[0;34m(\u001b[0m\u001b[0;34m\".zip\"\u001b[0m\u001b[0;34m)\u001b[0m\u001b[0;34m\u001b[0m\u001b[0;34m\u001b[0m\u001b[0m\n\u001b[1;32m      5\u001b[0m \u001b[0;31m#         zip_f.extract(\"../raw/slope-aspect/hgt/\"+f+\".hgt\")\u001b[0m\u001b[0;34m\u001b[0m\u001b[0;34m\u001b[0m\u001b[0m\n",
      "\u001b[0;31mFileNotFoundError\u001b[0m: [Errno 2] No such file or directory: '../raw/slope-aspect/'"
     ]
    }
   ],
   "source": [
    "# DONT RUN\n",
    "for filename in os.listdir('../raw/slope-aspect/'):\n",
    "    if filename.endswith('.zip'):\n",
    "        zip_f = zipfile.ZipFile(\"../raw/slope-aspect/\"+filename, \"r\")\n",
    "        f = filename.strip(\"NASADEM_SC_\").strip(\".zip\")\n",
    "#         zip_f.extract(\"../raw/slope-aspect/hgt/\"+f+\".hgt\")\n",
    "        zip_f.extract(f+\".aspect\")\n",
    "        zip_f.close()\n",
    "        print(filename)"
   ]
  },
  {
   "cell_type": "code",
   "execution_count": 6,
   "id": "d86e4c50",
   "metadata": {},
   "outputs": [],
   "source": [
    "file_path = '../raw/slope-aspect/aspect-raw/'"
   ]
  },
  {
   "cell_type": "code",
   "execution_count": 9,
   "id": "747f55bd",
   "metadata": {},
   "outputs": [],
   "source": [
    "# for filename in os.listdir(file_path):\n",
    "#     filename_noext = filename.strip('.hg.hgt')\n",
    "#     os.rename(file_path+filename, file_path+filename_noext+'.hgt')"
   ]
  },
  {
   "cell_type": "code",
   "execution_count": null,
   "id": "3a56fdd1",
   "metadata": {},
   "outputs": [],
   "source": [
    "final = pd.DataFrame()\n",
    "for filename in os.listdir(file_path):\n",
    "    lons = []\n",
    "    lats = []\n",
    "    lon_tile = int(filename[4:7])\n",
    "    lat_tile = int(filename[1:3])\n",
    "    \n",
    "    siz = os.path.getsize(file_path + filename)\n",
    "    dim = int(math.sqrt(siz/2))\n",
    "\n",
    "    assert dim*dim*2 == siz, 'Invalid file size'\n",
    "\n",
    "    data = np.fromfile(file_path + filename, np.dtype('>i2'), dim*dim).reshape((dim, dim))\n",
    "\n",
    "    for i in range(0, 3601):\n",
    "        lon = lon_tile + 1/7200 + i*(1/3601)\n",
    "        lat = lat_tile + 1/7200 + i*(1/3601)\n",
    "        lons.append(lon)\n",
    "        lats.append(lat)\n",
    "        \n",
    "    tile_df = pd.DataFrame(data)\n",
    "    tile_df.index = lats\n",
    "    tile_df.T\n",
    "    tile_df.index = lons\n",
    "    tile_df.T\n",
    "    tile_final = tile_df.stack().reset_index()\n",
    "    tile_final = tile_final.rename(columns = {'level_0': 'lon', 'level_1': 'lat', 0: 'aspect'})\n",
    "    \n",
    "    final = final.append(tile_final)"
   ]
  }
 ],
 "metadata": {
  "kernelspec": {
   "display_name": "sa2021",
   "language": "python",
   "name": "sa2021"
  },
  "language_info": {
   "codemirror_mode": {
    "name": "ipython",
    "version": 3
   },
   "file_extension": ".py",
   "mimetype": "text/x-python",
   "name": "python",
   "nbconvert_exporter": "python",
   "pygments_lexer": "ipython3",
   "version": "3.9.7"
  }
 },
 "nbformat": 4,
 "nbformat_minor": 5
}
